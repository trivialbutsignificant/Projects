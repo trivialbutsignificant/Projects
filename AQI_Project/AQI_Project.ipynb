{
 "cells": [
  {
   "cell_type": "code",
   "execution_count": 26,
   "id": "d0a7865e-eec9-4814-8040-efdccb954004",
   "metadata": {},
   "outputs": [
    {
     "name": "stdout",
     "output_type": "stream",
     "text": [
      "AQI for Kanpur: 44\n",
      "co: 4.7\n",
      "dew: 25\n",
      "h: 93.9825\n",
      "no2: 4.6\n",
      "o3: 6\n",
      "p: 739.055\n",
      "pm10: 27\n",
      "pm25: 44\n",
      "so2: 7.5\n",
      "t: 26.5\n",
      "w: 0.475\n",
      "wg: 9.2\n"
     ]
    }
   ],
   "source": [
    "#Collecting Data\n",
    "import requests\n",
    "\n",
    "API_KEY = '75051aad7ed40d8fefb1c7d809babcbdd38e4ad4'\n",
    "CITY = 'Kanpur'\n",
    "\n",
    "url = f'https://api.waqi.info/feed/{CITY}/?token={API_KEY}'\n",
    "response = requests.get(url)\n",
    "data = response.json()\n",
    "\n",
    "if data['status'] == 'ok':\n",
    "    aqi = data['data']['aqi']\n",
    "    iaqi = data['data']['iaqi']\n",
    "    print(f\"AQI for {CITY}: {aqi}\")\n",
    "    for pollutant in iaqi:\n",
    "        print(f\"{pollutant}: {iaqi[pollutant]['v']}\")\n",
    "else:\n",
    "    print(\"Error fetching data.\")"
   ]
  },
  {
   "cell_type": "code",
   "execution_count": 27,
   "id": "985b8eb8-118c-4ace-991f-557607a7d285",
   "metadata": {},
   "outputs": [
    {
     "name": "stdout",
     "output_type": "stream",
     "text": [
      "PM2.5 AQI: 121.5\n"
     ]
    }
   ],
   "source": [
    "#Calculating the AQI\n",
    "def calculate_aqi(concentration, breakpoints):\n",
    "    for i in range(len(breakpoints) - 1):\n",
    "        if breakpoints[i][0] <= concentration <= breakpoints[i+1][0]:\n",
    "            Clow, Chigh = breakpoints[i][0], breakpoints[i+1][0]\n",
    "            Ilow, Ihigh = breakpoints[i][1], breakpoints[i+1][1]\n",
    "            aqi = ((Ihigh - Ilow) / (Chigh - Clow)) * (concentration - Clow) + Ilow\n",
    "            return aqi\n",
    "    return None\n",
    "\n",
    "pm25_breakpoints = [\n",
    "    (0, 0), (12, 50), (35.4, 100), (55.4, 150),\n",
    "    (150.4, 200), (250.4, 300), (350.4, 400), (500, 500)\n",
    "]\n",
    "\n",
    "pm25_concentration = iaqi['pm25']['v']\n",
    "pm25_aqi = calculate_aqi(pm25_concentration, pm25_breakpoints)\n",
    "if pm25_concentration > 500:\n",
    "    print(\"PM 2.5 AQI > 500\")\n",
    "else:\n",
    "    print(f\"PM2.5 AQI: {pm25_aqi}\")"
   ]
  },
  {
   "cell_type": "code",
   "execution_count": 17,
   "id": "f9bd6659-7b09-490f-80a0-c62317eba68c",
   "metadata": {},
   "outputs": [
    {
     "name": "stdout",
     "output_type": "stream",
     "text": [
      "Overall AQI for Kanpur: 44 (Good)\n"
     ]
    }
   ],
   "source": [
    "#Display Result\n",
    "def aqi_category(aqi):\n",
    "    if aqi <= 50:\n",
    "        return \"Good\"\n",
    "    elif aqi <= 100:\n",
    "        return \"Moderate\"\n",
    "    elif aqi <= 150:\n",
    "        return \"Unhealthy for Sensitive Groups\"\n",
    "    elif aqi <= 200:\n",
    "        return \"Unhealthy\"\n",
    "    elif aqi <= 300:\n",
    "        return \"Very Unhealthy\"\n",
    "    else:\n",
    "        return \"Hazardous\"\n",
    "\n",
    "print(f\"Overall AQI for {CITY}: {aqi} ({aqi_category(aqi)})\")"
   ]
  },
  {
   "cell_type": "code",
   "execution_count": null,
   "id": "0d07e0fd-cf2e-45d9-9edb-6e160a7ca6d8",
   "metadata": {},
   "outputs": [],
   "source": []
  }
 ],
 "metadata": {
  "kernelspec": {
   "display_name": "Python 3 (ipykernel)",
   "language": "python",
   "name": "python3"
  },
  "language_info": {
   "codemirror_mode": {
    "name": "ipython",
    "version": 3
   },
   "file_extension": ".py",
   "mimetype": "text/x-python",
   "name": "python",
   "nbconvert_exporter": "python",
   "pygments_lexer": "ipython3",
   "version": "3.12.3"
  }
 },
 "nbformat": 4,
 "nbformat_minor": 5
}
