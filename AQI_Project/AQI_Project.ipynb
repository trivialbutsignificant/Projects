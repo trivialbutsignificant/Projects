{
 "cells": [
  {
   "cell_type": "code",
   "execution_count": 11,
   "id": "d0a7865e-eec9-4814-8040-efdccb954004",
   "metadata": {},
   "outputs": [
    {
     "name": "stdout",
     "output_type": "stream",
     "text": [
      "AQI for Noida: 599\n",
      "co: 0.2\n",
      "dew: 26\n",
      "h: 65.5\n",
      "no2: 1.7\n",
      "o3: 1.6\n",
      "p: 734.5\n",
      "pm10: 599\n",
      "pm25: 568\n",
      "so2: 8.3\n",
      "t: 30.35\n",
      "w: 2.725\n",
      "wg: 8.2\n"
     ]
    }
   ],
   "source": [
    "#Collecting Data\n",
    "import requests\n",
    "\n",
    "API_KEY = '75051aad7ed40d8fefb1c7d809babcbdd38e4ad4'\n",
    "CITY = 'Noida'\n",
    "\n",
    "url = f'https://api.waqi.info/feed/{CITY}/?token={API_KEY}'\n",
    "response = requests.get(url)\n",
    "data = response.json()\n",
    "\n",
    "if data['status'] == 'ok':\n",
    "    aqi = data['data']['aqi']\n",
    "    iaqi = data['data']['iaqi']\n",
    "    print(f\"AQI for {CITY}: {aqi}\")\n",
    "    for pollutant in iaqi:\n",
    "        print(f\"{pollutant}: {iaqi[pollutant]['v']}\")\n",
    "else:\n",
    "    print(\"Error fetching data.\")"
   ]
  },
  {
   "cell_type": "code",
   "execution_count": 12,
   "id": "985b8eb8-118c-4ace-991f-557607a7d285",
   "metadata": {},
   "outputs": [
    {
     "name": "stdout",
     "output_type": "stream",
     "text": [
      "PM2.5 AQI: None\n"
     ]
    }
   ],
   "source": [
    "#Calculating the AQI\n",
    "def calculate_aqi(concentration, breakpoints):\n",
    "    for i in range(len(breakpoints) - 1):\n",
    "        if breakpoints[i][0] <= concentration <= breakpoints[i+1][0]:\n",
    "            Clow, Chigh = breakpoints[i][0], breakpoints[i+1][0]\n",
    "            Ilow, Ihigh = breakpoints[i][1], breakpoints[i+1][1]\n",
    "            aqi = ((Ihigh - Ilow) / (Chigh - Clow)) * (concentration - Clow) + Ilow\n",
    "            return aqi\n",
    "    return None\n",
    "\n",
    "pm25_breakpoints = [\n",
    "    (0, 0), (12, 50), (35.4, 100), (55.4, 150),\n",
    "    (150.4, 200), (250.4, 300), (350.4, 400), (500.4, 500)\n",
    "]\n",
    "\n",
    "pm25_concentration = iaqi['pm25']['v']\n",
    "pm25_aqi = calculate_aqi(pm25_concentration, pm25_breakpoints)\n",
    "print(f\"PM2.5 AQI: {pm25_aqi}\")"
   ]
  },
  {
   "cell_type": "code",
   "execution_count": 13,
   "id": "f9bd6659-7b09-490f-80a0-c62317eba68c",
   "metadata": {},
   "outputs": [
    {
     "name": "stdout",
     "output_type": "stream",
     "text": [
      "Overall AQI for Noida: 599 (Hazardous)\n"
     ]
    }
   ],
   "source": [
    "#Display Result\n",
    "def aqi_category(aqi):\n",
    "    if aqi <= 50:\n",
    "        return \"Good\"\n",
    "    elif aqi <= 100:\n",
    "        return \"Moderate\"\n",
    "    elif aqi <= 150:\n",
    "        return \"Unhealthy for Sensitive Groups\"\n",
    "    elif aqi <= 200:\n",
    "        return \"Unhealthy\"\n",
    "    elif aqi <= 300:\n",
    "        return \"Very Unhealthy\"\n",
    "    else:\n",
    "        return \"Hazardous\"\n",
    "\n",
    "print(f\"Overall AQI for {CITY}: {aqi} ({aqi_category(aqi)})\")"
   ]
  }
 ],
 "metadata": {
  "kernelspec": {
   "display_name": "Python 3 (ipykernel)",
   "language": "python",
   "name": "python3"
  },
  "language_info": {
   "codemirror_mode": {
    "name": "ipython",
    "version": 3
   },
   "file_extension": ".py",
   "mimetype": "text/x-python",
   "name": "python",
   "nbconvert_exporter": "python",
   "pygments_lexer": "ipython3",
   "version": "3.12.3"
  }
 },
 "nbformat": 4,
 "nbformat_minor": 5
}
